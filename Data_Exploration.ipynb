{
  "cells": [
    {
      "cell_type": "code",
      "execution_count": null,
      "metadata": {
        "colab": {
          "base_uri": "https://localhost:8080/"
        },
        "id": "cnwHsJU0lXK3",
        "outputId": "d59678f1-6335-4e08-9395-02babcdb4353"
      },
      "outputs": [
        {
          "name": "stdout",
          "output_type": "stream",
          "text": [
            "Mounted at /content/drive\n"
          ]
        }
      ],
      "source": [
        "from google.colab import drive\n",
        "drive.mount('/content/drive')"
      ]
    },
    {
      "cell_type": "code",
      "execution_count": null,
      "metadata": {
        "id": "hWV90DDJETtM"
      },
      "outputs": [],
      "source": [
        "import warnings\n",
        "warnings.filterwarnings('ignore')\n"
      ]
    },
    {
      "cell_type": "code",
      "execution_count": null,
      "metadata": {
        "colab": {
          "base_uri": "https://localhost:8080/"
        },
        "id": "FW0Eg0ru4xX5",
        "outputId": "c7974485-5656-43ec-a43a-586545f8ea85"
      },
      "outputs": [
        {
          "name": "stdout",
          "output_type": "stream",
          "text": [
            "\u001b[2K     \u001b[90m━━━━━━━━━━━━━━━━━━━━━━━━━━━━━━━━━━━━━━━━\u001b[0m \u001b[32m542.0/542.0 kB\u001b[0m \u001b[31m4.3 MB/s\u001b[0m eta \u001b[36m0:00:00\u001b[0m\n",
            "\u001b[2K     \u001b[90m━━━━━━━━━━━━━━━━━━━━━━━━━━━━━━━━━━━━━━━━\u001b[0m \u001b[32m116.3/116.3 kB\u001b[0m \u001b[31m5.1 MB/s\u001b[0m eta \u001b[36m0:00:00\u001b[0m\n",
            "\u001b[2K     \u001b[90m━━━━━━━━━━━━━━━━━━━━━━━━━━━━━━━━━━━━━━━━\u001b[0m \u001b[32m194.1/194.1 kB\u001b[0m \u001b[31m6.0 MB/s\u001b[0m eta \u001b[36m0:00:00\u001b[0m\n",
            "\u001b[2K     \u001b[90m━━━━━━━━━━━━━━━━━━━━━━━━━━━━━━━━━━━━━━━━\u001b[0m \u001b[32m134.8/134.8 kB\u001b[0m \u001b[31m5.7 MB/s\u001b[0m eta \u001b[36m0:00:00\u001b[0m\n",
            "\u001b[2K     \u001b[90m━━━━━━━━━━━━━━━━━━━━━━━━━━━━━━━━━━━━━━━━\u001b[0m \u001b[32m401.2/401.2 kB\u001b[0m \u001b[31m7.0 MB/s\u001b[0m eta \u001b[36m0:00:00\u001b[0m\n",
            "\u001b[2K     \u001b[90m━━━━━━━━━━━━━━━━━━━━━━━━━━━━━━━━━━━━━━━━\u001b[0m \u001b[32m171.5/171.5 kB\u001b[0m \u001b[31m3.0 MB/s\u001b[0m eta \u001b[36m0:00:00\u001b[0m\n",
            "\u001b[?25h"
          ]
        },
        {
          "name": "stderr",
          "output_type": "stream",
          "text": [
            "[nltk_data] Downloading package punkt to /root/nltk_data...\n",
            "[nltk_data]   Unzipping tokenizers/punkt.zip.\n",
            "[nltk_data] Downloading package stopwords to /root/nltk_data...\n",
            "[nltk_data]   Unzipping corpora/stopwords.zip.\n"
          ]
        }
      ],
      "source": [
        "try:\n",
        "  from datasets import load_dataset\n",
        "except Exception:\n",
        "  !pip install datasets -q\n",
        "  from datasets import load_dataset\n",
        "\n",
        "\n",
        "try:\n",
        "    from wordcloud import WordCloud\n",
        "except Exception:\n",
        "    !pip install wordcloud -q\n",
        "    from wordcloud import WordCloud\n",
        "\n",
        "\n",
        "try:\n",
        "    from sentence_transformers import SentenceTransformer\n",
        "except:\n",
        "    !pip install sentence-transformers -q\n",
        "    from sentence_transformers import SentenceTransformer\n",
        "\n",
        "\n",
        "import re\n",
        "import pandas as pd\n",
        "import  matplotlib.pyplot as plt\n",
        "import numpy as np\n",
        "\n",
        "from collections import Counter\n",
        "\n",
        "import nltk\n",
        "nltk.download('punkt')\n",
        "nltk.download('stopwords')\n",
        "from nltk.tokenize import word_tokenize\n",
        "from nltk.corpus import stopwords\n",
        "\n",
        "\n",
        "from tqdm import tqdm"
      ]
    },
    {
      "cell_type": "markdown",
      "metadata": {
        "id": "qSH8binAOn1m"
      },
      "source": [
        "# Data Loading"
      ]
    },
    {
      "cell_type": "code",
      "execution_count": null,
      "metadata": {
        "colab": {
          "base_uri": "https://localhost:8080/",
          "height": 177,
          "referenced_widgets": [
            "fc510f151dd94c37b140b36ed63715f7",
            "202b17098b344110a88b9e318ebebc01",
            "38d9385ee772435c8a517f4a704fb25a",
            "750ae7633cfc4fd69ffffd5c6b3cdce7",
            "ef4b4350cd47479ab7bb984990b56f18",
            "316a6c8a5d8d428ea6882a26db1617a8",
            "df907d0167cd4b25b0afd25d7f70cd1b",
            "dfe348a4f798409b9f4c8d7025759aa0",
            "96e85f17aef34e73a921ecadd89e875a",
            "c15b3a35306c4c81b5742dc0358b07b5",
            "c079222725954311b72fecaa2855048f",
            "ea74fbfa0f014625919e978e2d7e5eee",
            "79d7b6bd78414e638a6636f79f83279e",
            "80c02b4423e14de0a8b8d4e6a81b2657",
            "db0c0f283faa4bcead7b5350298ebfea",
            "8939db8e5fbe40b2b665da2d875f8a08",
            "15498cc27759403898da6e8b6b734231",
            "21a9556ffdc446de93c9aedc0a1e7a1b",
            "a700fea01dc2456e927053de6ca8a536",
            "ca0bb3666da040938262c51d6702c473",
            "bd9fe2c706ce47cbae2f3aff514cfed2",
            "b51a3a7640af4f8cbe252ef61fb5e5f6",
            "60a12f05a37d4315891ac711baf1deb0",
            "3cd193b82d514629ae81682d180ffa3b",
            "762f4a98ee0c47b9903bff6aeb9bc97f",
            "c719f116005e4fa68594b9ed53c01882",
            "8321e1e9c4634b65bd05e3766f9bcbb6",
            "f01ac3b97f194eb8947c136e6c8c4806",
            "b802c7f0d48c4f4eb54ec0a85ff129ce",
            "a88736743b8548daacebd4024492bace",
            "94b7c3a89ffc4974ac58e0457f9d8ada",
            "1402fa3f58e947aca212b43557ecb256",
            "a9140259bde34b8791e3786260fdede4",
            "2347de7739574a22a117be8fb06a8511",
            "5a71c158910a4932ba619c165b2bb33b",
            "1afda774cff64261b894f00423c8c6a4",
            "1e198dcdc8744c89b45f296f9ed485b3",
            "89a4c65d129a4ab99ecebcfa0450094b",
            "5c0f59eaba6c4599bb36fd9096e22bc8",
            "7361a272101841e9a548a4f728c7db31",
            "e2ebf48ece8d4ccda0ab216fd98c46ca",
            "b3d1790d5e7e4c6babdbe233c60df789",
            "b65b9573e4df4a189a561d8cb9dc5762",
            "6125c2601b884e1580c2d670fc0c49be",
            "ed5ce2c8ef1b418e99c788f6c9bdc709",
            "9b503817e18946079055e2b7c19d35e9",
            "2ef03e2bf27f4362892d83be5778563f",
            "a78f087a74774ca4bca7cb961e7a25d0",
            "526bd821aa4d434b8f11032d13831027",
            "a366cc6dbfbf47c2beae6ccfd03174de",
            "6c410bea5d5b44d780e0eb47c348883d",
            "e870de7f34b24ee8b55c5a8ad1c055ed",
            "79f25ddee6e643cc9fd00ac9da42dca6",
            "73f8fb8bbb0b463eaa636da992740101",
            "59528eb6be68440683aaad90d7906646"
          ]
        },
        "id": "L5OC7EEnj_tD",
        "outputId": "92ad80ee-995d-49c7-d13d-9d7ec46aa6fd"
      },
      "outputs": [
        {
          "data": {
            "application/vnd.jupyter.widget-view+json": {
              "model_id": "fc510f151dd94c37b140b36ed63715f7",
              "version_major": 2,
              "version_minor": 0
            },
            "text/plain": [
              "Downloading readme:   0%|          | 0.00/6.72k [00:00<?, ?B/s]"
            ]
          },
          "metadata": {},
          "output_type": "display_data"
        },
        {
          "data": {
            "application/vnd.jupyter.widget-view+json": {
              "model_id": "ea74fbfa0f014625919e978e2d7e5eee",
              "version_major": 2,
              "version_minor": 0
            },
            "text/plain": [
              "Downloading data:   0%|          | 0.00/299M [00:00<?, ?B/s]"
            ]
          },
          "metadata": {},
          "output_type": "display_data"
        },
        {
          "data": {
            "application/vnd.jupyter.widget-view+json": {
              "model_id": "60a12f05a37d4315891ac711baf1deb0",
              "version_major": 2,
              "version_minor": 0
            },
            "text/plain": [
              "Downloading data:   0%|          | 0.00/23.5M [00:00<?, ?B/s]"
            ]
          },
          "metadata": {},
          "output_type": "display_data"
        },
        {
          "data": {
            "application/vnd.jupyter.widget-view+json": {
              "model_id": "2347de7739574a22a117be8fb06a8511",
              "version_major": 2,
              "version_minor": 0
            },
            "text/plain": [
              "Generating train split:   0%|          | 0/650000 [00:00<?, ? examples/s]"
            ]
          },
          "metadata": {},
          "output_type": "display_data"
        },
        {
          "data": {
            "application/vnd.jupyter.widget-view+json": {
              "model_id": "ed5ce2c8ef1b418e99c788f6c9bdc709",
              "version_major": 2,
              "version_minor": 0
            },
            "text/plain": [
              "Generating test split:   0%|          | 0/50000 [00:00<?, ? examples/s]"
            ]
          },
          "metadata": {},
          "output_type": "display_data"
        }
      ],
      "source": [
        "dataset = load_dataset(\"yelp_review_full\")\n",
        "train_dataset = dataset['train']\n",
        "test_dataset = dataset['test']\n",
        "\n",
        "\n",
        "del dataset"
      ]
    },
    {
      "cell_type": "code",
      "execution_count": null,
      "metadata": {
        "id": "KjRaJpfmkCfo"
      },
      "outputs": [],
      "source": [
        "train_text = [train_dataset[i]['text'] for i in range(len(train_dataset))]\n",
        "train_label = [train_dataset[i]['label'] for i in range(len(train_dataset))]\n",
        "\n",
        "test_text = [test_dataset[i]['text'] for i in range(len(test_dataset))]\n",
        "test_label = [test_dataset[i]['label'] for i in range(len(test_dataset))]\n",
        "\n",
        "\n",
        "del train_dataset\n",
        "del test_dataset"
      ]
    },
    {
      "cell_type": "code",
      "execution_count": null,
      "metadata": {
        "colab": {
          "base_uri": "https://localhost:8080/"
        },
        "id": "wpPWxVVi58xI",
        "outputId": "250aa0d8-36fc-49cc-9bd5-77a66a7c98c1"
      },
      "outputs": [
        {
          "name": "stdout",
          "output_type": "stream",
          "text": [
            "The number of samples in the trainset is: 650000\n",
            "The number of samples in the testset is: 50000\n"
          ]
        }
      ],
      "source": [
        "print(f\"The number of samples in the trainset is: {len(train_text)}\")\n",
        "print(f\"The number of samples in the testset is: {len(test_text)}\")"
      ]
    },
    {
      "cell_type": "code",
      "execution_count": null,
      "metadata": {
        "colab": {
          "base_uri": "https://localhost:8080/"
        },
        "id": "85u4Cnk-6cZr",
        "outputId": "ed0e0e25-082a-42d3-bfa8-c582a0a3f723"
      },
      "outputs": [
        {
          "name": "stdout",
          "output_type": "stream",
          "text": [
            "The first text in the trainset is: \n",
            "  dr. goldberg offers everything i look for in a general practitioner.  he's nice and easy to talk to without being patronizing; he's always on time in seeing his patients; he's affiliated with a top-notch hospital (nyu) which my parents have explained to me is very important in case something happens and you need surgery; and you can get referrals to see specialists without having to see him first.  really, what more do you need?  i'm sitting here trying to think of any complaints i have about him, but i'm really drawing a blank.\n"
          ]
        }
      ],
      "source": [
        "print(f\"The first text in the trainset is: \\n  {train_text[0]}\")"
      ]
    },
    {
      "cell_type": "markdown",
      "metadata": {
        "id": "X8lukoJoOxXv"
      },
      "source": [
        "# Data insight"
      ]
    },
    {
      "cell_type": "code",
      "execution_count": null,
      "metadata": {
        "colab": {
          "base_uri": "https://localhost:8080/",
          "height": 472
        },
        "id": "3GN_6qRdlclW",
        "outputId": "e25fb391-e942-4d8f-9a7e-bab751b368c5"
      },
      "outputs": [
        {
          "data": {
            "image/png": "[encoded data removed]",
            "text/plain": [
              "<Figure size 640x480 with 1 Axes>"
            ]
          },
          "metadata": {},
          "output_type": "display_data"
        }
      ],
      "source": [
        "unique_ratings, counts = np.unique(train_label, return_counts=True)\n",
        "plt.bar(unique_ratings, counts, color='skyblue')\n",
        "plt.xlabel('Rating')\n",
        "plt.ylabel('Count')\n",
        "plt.title('Distribution of Ratings in trainset')\n",
        "plt.show()"
      ]
    },
    {
      "cell_type": "markdown",
      "metadata": {
        "id": "vJP4x_qE-WK7"
      },
      "source": [
        "Fining and removing emoticons in the texts:"
      ]
    },
    {
      "cell_type": "code",
      "execution_count": null,
      "metadata": {
        "colab": {
          "base_uri": "https://localhost:8080/"
        },
        "id": "zaz8pu5U-Vjx",
        "outputId": "f504d004-b706-4b46-aed5-ab8eb20b488e"
      },
      "outputs": [
        {
          "name": "stdout",
          "output_type": "stream",
          "text": [
            ":) --> 12067\n",
            ":( --> 4058\n",
            ";) --> 2138\n",
            ":-) --> 1638\n",
            "=) --> 1024\n",
            "8) --> 886\n",
            ":/ --> 696\n",
            ":D --> 620\n",
            ":-( --> 502\n",
            ";-) --> 437\n",
            ":P --> 368\n",
            "B) --> 322\n",
            "=( --> 290\n",
            "BO --> 241\n",
            "8$ --> 236\n",
            "83 --> 170\n",
            ":-/ --> 168\n",
            "=/ --> 151\n",
            "BP --> 129\n",
            "=P --> 129\n",
            "=D --> 114\n",
            ":p --> 107\n",
            "BD --> 96\n",
            ";( --> 88\n",
            ":-D --> 73\n",
            "8p --> 49\n",
            ":-O --> 40\n",
            ";D --> 40\n",
            ";P --> 37\n",
            ":-P --> 32\n",
            ":3 --> 27\n",
            ";p --> 27\n",
            ":O --> 25\n",
            ":| --> 24\n",
            ";-( --> 24\n",
            "B3 --> 22\n",
            ":-p --> 17\n",
            "=p --> 16\n",
            ":-| --> 15\n",
            ";/ --> 14\n",
            "=3 --> 11\n",
            "8( --> 10\n",
            "=-) --> 8\n",
            "8* --> 8\n",
            "8-) --> 7\n",
            "8/ --> 7\n",
            ";-P --> 7\n",
            ":^) --> 6\n",
            "8P --> 5\n",
            ";-p --> 5\n",
            "B/ --> 5\n",
            ":^( --> 5\n",
            "8-3 --> 5\n",
            "B-) --> 5\n",
            ":15pm: --> 4\n",
            ";^) --> 4\n",
            ":00PM: --> 4\n",
            ":00pm: --> 4\n",
            ":30pm: --> 4\n",
            "=O --> 4\n",
            "=$ --> 4\n",
            ":^/ --> 3\n",
            ":20pm: --> 3\n",
            ":35pm: --> 3\n",
            "8-( --> 3\n",
            "B$ --> 3\n",
            ":20: --> 2\n",
            "Bp --> 2\n",
            ":30PM: --> 2\n",
            ":40pm: --> 2\n",
            ":55pm: --> 2\n",
            ":30: --> 2\n",
            ";-/ --> 2\n",
            "=-( --> 2\n",
            "8O --> 2\n",
            "B* --> 2\n",
            ":10: --> 2\n",
            "B-/ --> 2\n",
            ";-D --> 2\n",
            "=| --> 1\n",
            "=-P --> 1\n",
            "=^) --> 1\n",
            ":@ --> 1\n",
            ":dr: --> 1\n",
            ":drool: --> 1\n",
            ";3 --> 1\n",
            ":LOL: --> 1\n",
            "=-/ --> 1\n",
            ":cough: --> 1\n",
            ":15PM: --> 1\n",
            ":35PM: --> 1\n",
            ":42PM: --> 1\n",
            ":45PM: --> 1\n",
            ":45pm: --> 1\n",
            ":10pm: --> 1\n",
            ":22pm: --> 1\n",
            ":23pm: --> 1\n",
            ":33pm: --> 1\n",
            ":01pm: --> 1\n",
            ":30AM: --> 1\n",
            ":16: --> 1\n",
            ":5: --> 1\n",
            "B@ --> 1\n",
            ":hurk: --> 1\n",
            ":DR: --> 1\n",
            ":39: --> 1\n",
            ":05pm: --> 1\n",
            "B( --> 1\n",
            "8-P --> 1\n",
            ";^D --> 1\n",
            ";O --> 1\n",
            ":37PM: --> 1\n",
            ":38PM: --> 1\n",
            ":01PM: --> 1\n",
            ":03PM: --> 1\n",
            ":10PM: --> 1\n",
            ":-@ --> 1\n",
            ";| --> 1\n",
            ":55: --> 1\n",
            ":14pm: --> 1\n",
            ":50pm: --> 1\n",
            ":40: --> 1\n",
            ":46am: --> 1\n",
            ":51am: --> 1\n",
            ":05am: --> 1\n",
            ":08am: --> 1\n",
            ":17am: --> 1\n",
            ":21am: --> 1\n",
            ":27am: --> 1\n",
            ":35am: --> 1\n",
            ":43am: --> 1\n",
            ":50am: --> 1\n",
            ":52am: --> 1\n",
            ":54am: --> 1\n",
            ":56am: --> 1\n",
            ":02am: --> 1\n",
            ":14am: --> 1\n",
            ":16am: --> 1\n",
            ":19am: --> 1\n",
            ":25am: --> 1\n",
            ":45: --> 1\n",
            ";-O --> 1\n"
          ]
        }
      ],
      "source": [
        "emoticon_regex = '(\\:\\w+\\:|\\<[\\/\\\\]?3|[\\(\\)\\\\\\D|\\*\\$][\\-\\^]?[\\:\\;\\=]|[\\:\\;\\=B8][\\-\\^]?[3DOPp\\@\\$\\*\\\\\\)\\(\\/\\|])(?=\\s|[\\!\\.\\?]|$)'\n",
        "concatenated_texts = ' '.join(train_text)\n",
        "emoticons_in_texts = re.findall(emoticon_regex, concatenated_texts)\n",
        "\n",
        "counts = nltk.Counter(emoticons_in_texts)\n",
        "counts = counts.most_common()\n",
        "\n",
        "for emoticon, count in counts:\n",
        "    print(f\"{emoticon} --> {count}\")"
      ]
    },
    {
      "cell_type": "code",
      "execution_count": null,
      "metadata": {
        "colab": {
          "base_uri": "https://localhost:8080/"
        },
        "id": "SvZ23FJf_eCq",
        "outputId": "01cd7a17-098f-4f79-d8ab-b700b2ce6f03"
      },
      "outputs": [
        {
          "name": "stderr",
          "output_type": "stream",
          "text": [
            "100%|██████████| 650000/650000 [00:35<00:00, 18538.50it/s]\n",
            "100%|██████████| 50000/50000 [00:01<00:00, 41310.00it/s]\n"
          ]
        }
      ],
      "source": [
        "train_text_noemot = [re.sub(emoticon_regex, '', tweet) for tweet in tqdm(train_text)]\n",
        "test_text_noemot  = [re.sub(emoticon_regex, '', tweet) for tweet in tqdm(test_text)]"
      ]
    },
    {
      "cell_type": "code",
      "execution_count": null,
      "metadata": {
        "colab": {
          "base_uri": "https://localhost:8080/"
        },
        "id": "eDZDL2AWBAQ5",
        "outputId": "659c6881-a506-445d-e24f-7d243fc5604a"
      },
      "outputs": [
        {
          "name": "stderr",
          "output_type": "stream",
          "text": [
            "100%|██████████| 650000/650000 [00:58<00:00, 11166.77it/s]\n",
            "100%|██████████| 50000/50000 [00:03<00:00, 13925.44it/s]\n"
          ]
        }
      ],
      "source": [
        "tokenized_train = [re.sub('\\W', ' ', sentence).lower().split() for sentence in tqdm(train_text_noemot)]\n",
        "tokenized_test  = [re.sub('\\W', ' ', sentence).lower().split() for sentence in tqdm(test_text_noemot)]"
      ]
    },
    {
      "cell_type": "code",
      "execution_count": null,
      "metadata": {
        "colab": {
          "base_uri": "https://localhost:8080/"
        },
        "id": "oAwFCMxREGaq",
        "outputId": "48c3972c-4176-42ce-a606-e0d1785cbbea"
      },
      "outputs": [
        {
          "name": "stdout",
          "output_type": "stream",
          "text": [
            "The first text in the trainset is:\n",
            "dr. goldberg offers everything i look for in a general practitioner.  he's nice and easy to talk to without being patronizing; he's always on time in seeing his patients; he's affiliated with a top-notch hospital (nyu) which my parents have explained to me is very important in case something happens and you need surgery; and you can get referrals to see specialists without having to see him first.  really, what more do you need?  i'm sitting here trying to think of any complaints i have about him, but i'm really drawing a blank.\n",
            "\n",
            "The tokenized version of the text is:\n",
            "['dr', 'goldberg', 'offers', 'everything', 'i', 'look', 'for', 'in', 'a', 'general', 'practitioner', 'he', 's', 'nice', 'and', 'easy', 'to', 'talk', 'to', 'without', 'being', 'patronizing', 'he', 's', 'always', 'on', 'time', 'in', 'seeing', 'his', 'patients', 'he', 's', 'affiliated', 'with', 'a', 'top', 'notch', 'hospital', 'nyu', 'which', 'my', 'parents', 'have', 'explained', 'to', 'me', 'is', 'very', 'important', 'in', 'case', 'something', 'happens', 'and', 'you', 'need', 'surgery', 'and', 'you', 'can', 'get', 'referrals', 'to', 'see', 'specialists', 'without', 'having', 'to', 'see', 'him', 'first', 'really', 'what', 'more', 'do', 'you', 'need', 'i', 'm', 'sitting', 'here', 'trying', 'to', 'think', 'of', 'any', 'complaints', 'i', 'have', 'about', 'him', 'but', 'i', 'm', 'really', 'drawing', 'a', 'blank']\n"
          ]
        }
      ],
      "source": [
        "print(f\"The first text in the trainset is:\\n{train_text_noemot[0]}\", end = \"\\n\\n\")\n",
        "print(f\"The tokenized version of the text is:\\n{tokenized_train[0]}\")"
      ]
    },
    {
      "cell_type": "code",
      "execution_count": null,
      "metadata": {
        "colab": {
          "base_uri": "https://localhost:8080/"
        },
        "id": "9gwBBscJE_s1",
        "outputId": "9a4d4444-1f68-4716-a9ec-e7c648eb3c18"
      },
      "outputs": [
        {
          "name": "stderr",
          "output_type": "stream",
          "text": [
            "100%|██████████| 650000/650000 [00:04<00:00, 155911.86it/s]\n",
            "100%|██████████| 650000/650000 [00:00<00:00, 2048469.34it/s]\n"
          ]
        }
      ],
      "source": [
        "all_words_train  = [word for sublist in tqdm(tokenized_train) for word in sublist]\n",
        "lenght_of_docs_train = [ len(doc) for doc in tqdm(tokenized_train)]\n",
        "\n",
        "word_counts = Counter(all_words_train)\n",
        "most_common_words = word_counts.most_common()"
      ]
    },
    {
      "cell_type": "code",
      "execution_count": null,
      "metadata": {
        "colab": {
          "base_uri": "https://localhost:8080/"
        },
        "id": "G8I8tQQCNbpW",
        "outputId": "79ba8c9d-576e-4298-8f4c-179f9a945ce5"
      },
      "outputs": [
        {
          "name": "stdout",
          "output_type": "stream",
          "text": [
            "The total number of words in the trainset is :91008798\n",
            "The avarage number of words per document is :140\n",
            "The total number of nique words in the corpus is :242872\n",
            "\n",
            "10 most frequent words in the whole corpus:\n",
            "('the', 4374873)\n",
            "('and', 2783884)\n",
            "('i', 2557449)\n",
            "('a', 2255246)\n",
            "('to', 2166411)\n",
            "('was', 1583541)\n",
            "('it', 1375099)\n",
            "('of', 1319577)\n",
            "('for', 1022397)\n",
            "('in', 1002861)\n",
            "\n",
            "10 least frequent words in the whole corpus:\n",
            "('glupey', 1)\n",
            "('luuuuuuuu', 1)\n",
            "('losada', 1)\n",
            "('euriamis', 1)\n",
            "('rickyyyyyyyy', 1)\n",
            "('slinkys', 1)\n",
            "('lightheartedness', 1)\n",
            "('dugana', 1)\n",
            "('titiya', 1)\n",
            "('kalaguen', 1)\n"
          ]
        }
      ],
      "source": [
        "print (f\"The total number of words in the trainset is :{len(all_words_train)}\")\n",
        "print (f\"The avarage number of words per document is :{round(np.mean(lenght_of_docs_train))}\")\n",
        "print (f\"The total number of nique words in the corpus is :{len(set(all_words_train))}\", end = \"\\n\\n\")\n",
        "\n",
        "print(\"10 most frequent words in the whole corpus:\")\n",
        "for i in range(10):\n",
        "  print(most_common_words[i])\n",
        "\n",
        "print(\"\\n10 least frequent words in the whole corpus:\")\n",
        "for i in range(10):\n",
        "  print(most_common_words[-i-1])\n"
      ]
    },
    {
      "cell_type": "code",
      "execution_count": null,
      "metadata": {
        "id": "Qtq6_XrnPwn2"
      },
      "outputs": [],
      "source": [
        "del lenght_of_docs_train\n",
        "del most_common_words\n",
        "del word_counts"
      ]
    },
    {
      "cell_type": "code",
      "execution_count": null,
      "metadata": {
        "colab": {
          "base_uri": "https://localhost:8080/",
          "height": 1000
        },
        "id": "d1wpZOuwSX5x",
        "outputId": "763a963c-de4a-4083-f636-4de33bb78d51"
      },
      "outputs": [
        {
          "data": {
            "image/png": "[encoded data removed]",
            "text/plain": [
              "<Figure size 640x480 with 1 Axes>"
            ]
          },
          "metadata": {},
          "output_type": "display_data"
        },
        {
          "data": {
            "image/png": "[encoded data removed]",
            "text/plain": [
              "<Figure size 640x480 with 1 Axes>"
            ]
          },
          "metadata": {},
          "output_type": "display_data"
        },
        {
          "data": {
            "image/png": "[encoded data removed]",
            "text/plain": [
              "<Figure size 640x480 with 1 Axes>"
            ]
          },
          "metadata": {},
          "output_type": "display_data"
        },
        {
          "data": {
            "image/png": "[encoded data removed]",
            "text/plain": [
              "<Figure size 640x480 with 1 Axes>"
            ]
          },
          "metadata": {},
          "output_type": "display_data"
        },
        {
          "data": {
            "image/png": "[encoded data removed]",
            "text/plain": [
              "<Figure size 640x480 with 1 Axes>"
            ]
          },
          "metadata": {},
          "output_type": "display_data"
        }
      ],
      "source": [
        "from PIL import Image\n",
        "\n",
        "\n",
        "\n",
        "def find_wordcloud(texts: list, mask_image: np.array):\n",
        "    return WordCloud(\n",
        "        background_color='#FFFFFF',\n",
        "        mask=mask_image,\n",
        "        contour_width=2,\n",
        "        contour_color='#FFFFFF',\n",
        "        colormap='copper',\n",
        "        stopwords=stopwords.words('english')\n",
        "    ).generate(' '.join(texts))\n",
        "\n",
        "def find_texts_based_on_label(corpus: list, corpus_labels: list, filtered_label: int) -> list:\n",
        "    results = []\n",
        "\n",
        "    for index, text_label in enumerate(corpus_labels):\n",
        "        if text_label == filtered_label:\n",
        "            results.append(corpus[index])\n",
        "\n",
        "    return results\n",
        "\n",
        "for label in sorted(np.unique(train_label)):\n",
        "    texts = find_texts_based_on_label(train_text, train_label, label)\n",
        "    mask_image = np.array(Image.open(f\"/content/drive/MyDrive/Projects/NLP/{label+1}.png\"))\n",
        "\n",
        "    wc = find_wordcloud(texts, mask_image)\n",
        "    plt.figure()  # Create a new plot for each word cloud\n",
        "    plt.axis(\"off\")\n",
        "    plt.imshow(wc)\n",
        "    plt.show()\n",
        "\n",
        "del texts\n",
        "del mask_image\n",
        "del wc"
      ]
    },
    {
      "cell_type": "markdown",
      "metadata": {
        "id": "kOSd8muXjkU3"
      },
      "source": [
        "# Clustring Training Text"
      ]
    },
    {
      "cell_type": "markdown",
      "metadata": {
        "id": "IZXy-eCxOQCa"
      },
      "source": [
        "## Clustering with TFIDF"
      ]
    },
    {
      "cell_type": "code",
      "execution_count": null,
      "metadata": {
        "id": "UwSux0FxQDZ3"
      },
      "outputs": [],
      "source": [
        "from sklearn.model_selection import train_test_split\n",
        "from sklearn.feature_extraction.text import TfidfVectorizer"
      ]
    },
    {
      "cell_type": "code",
      "execution_count": null,
      "metadata": {
        "id": "sSqrHihgOTdw"
      },
      "outputs": [],
      "source": [
        "X_sampled, _ , _ , _ = train_test_split(\n",
        "    train_text_noemot, train_label, train_size=20_000, stratify=train_label, random_state = 42\n",
        ")\n",
        "\n",
        "\n",
        "vectorizer = TfidfVectorizer(max_df = 0.7, min_df = 20, stop_words = 'english')\n",
        "vectorizer.fit(X_sampled)\n",
        "vocab = vectorizer.get_feature_names_out()\n",
        "\n",
        "\n",
        "print(f\"Length of vocabulary: {len(vocab)}\")"
      ]
    },
    {
      "cell_type": "markdown",
      "metadata": {
        "id": "Gd60DEU8O8qC"
      },
      "source": [
        "Some ten random words of the vocabulary of the corpus:\n"
      ]
    },
    {
      "cell_type": "code",
      "execution_count": null,
      "metadata": {
        "id": "NsFS5bfrOTWi"
      },
      "outputs": [],
      "source": [
        "import random\n",
        "\n",
        "sorted(random.sample(vocab.tolist(), 10))"
      ]
    },
    {
      "cell_type": "code",
      "execution_count": null,
      "metadata": {
        "id": "Hy2wv7hTPESo"
      },
      "outputs": [],
      "source": [
        "vector_documents = vectorizer.transform(X_sampled)\n",
        "vector_documents.shape"
      ]
    },
    {
      "cell_type": "markdown",
      "metadata": {
        "id": "1rI0icUkPTij"
      },
      "source": [
        "Numerical(TF-IDF) representation of the trainset text has the following dimension:"
      ]
    },
    {
      "cell_type": "code",
      "execution_count": null,
      "metadata": {
        "id": "h1jVr1aSPUGm"
      },
      "outputs": [],
      "source": [
        "nonzero_count = vector_documents.count_nonzero()\n",
        "doc_count = vector_documents.get_shape()[0]\n",
        "\n",
        "print(f\"Average document vocabulary size: {round(nonzero_count/doc_count)}\")"
      ]
    },
    {
      "cell_type": "code",
      "execution_count": null,
      "metadata": {
        "id": "9-XanbCH64ML"
      },
      "outputs": [],
      "source": [
        "del test_text\n",
        "del test_label"
      ]
    },
    {
      "cell_type": "markdown",
      "metadata": {
        "id": "dXpohMbsvXNs"
      },
      "source": [
        "Since the dimension of the dataset is too high, a subset of 5000 instances are sampled randomly, then a K-mean clustring is applied on it to find 5 clusters(inspired by range of ratings) finally, the result is visualized."
      ]
    },
    {
      "cell_type": "code",
      "execution_count": null,
      "metadata": {
        "id": "x6UtMny8z3h6"
      },
      "outputs": [],
      "source": [
        "from sklearn.cluster import KMeans\n",
        "from sklearn.manifold import TSNE\n",
        "\n",
        "\n",
        "\n",
        "k = 5  # Number of clusters\n",
        "kmeans = KMeans(n_clusters=k, n_init='auto')\n",
        "cluster_assignments = kmeans.fit_predict(vector_documents)\n",
        "\n",
        "# Step 3: Compute BSS and WSS metrics\n",
        "centroids = kmeans.cluster_centers_\n",
        "labels = kmeans.labels_\n",
        "\n",
        "bss = sum(np.linalg.norm(centroids[i] - centroids.mean(axis=0))**2 for i in range(k))\n",
        "wss = sum(np.linalg.norm(vector_documents[np.where(labels == i)] - centroids[i])**2 for i in range(k))\n",
        "\n",
        "print(\"Between Sum of Squares (BSS):\", bss)\n",
        "print(\"Within Sum of Squares (WSS):\", wss)"
      ]
    },
    {
      "cell_type": "code",
      "execution_count": null,
      "metadata": {
        "id": "U56yqCvXDgDo"
      },
      "outputs": [],
      "source": [
        "tsne = TSNE(n_components=2, random_state=42, init=\"random\")\n",
        "X_tsne = tsne.fit_transform(vector_documents)\n",
        "\n",
        "# Plot the clustering results\n",
        "plt.figure(figsize=(10, 6))\n",
        "plt.scatter(X_tsne[:, 0], X_tsne[:, 1], c=cluster_assignments, cmap='viridis', alpha=0.5)\n",
        "plt.title('t-SNE visualization of K-means clustering')\n",
        "plt.xlabel('t-SNE dimension 1')\n",
        "plt.ylabel('t-SNE dimension 2')\n",
        "plt.colorbar()\n",
        "plt.show()\n"
      ]
    },
    {
      "cell_type": "markdown",
      "metadata": {
        "id": "HTsCPCCwR3rm"
      },
      "source": [
        "## Clustering with SentenceBERT"
      ]
    },
    {
      "cell_type": "code",
      "execution_count": null,
      "metadata": {
        "id": "fqjunbbpR3dS"
      },
      "outputs": [],
      "source": [
        "vectorizer = SentenceTransformer('efederici/sentence-bert-base')\n",
        "embeddings = np.array(vectorizer.encode(X_sampled))\n",
        "\n",
        "k = 5  # Number of clusters\n",
        "kmeans = KMeans(n_clusters=k, n_init='auto')\n",
        "cluster_assignments = kmeans.fit_predict(embeddings)\n",
        "\n",
        "# Step 3: Compute BSS and WSS metrics\n",
        "centroids = kmeans.cluster_centers_\n",
        "labels = kmeans.labels_\n",
        "\n",
        "bss = sum(np.linalg.norm(centroids[i] - centroids.mean(axis=0))**2 for i in range(k))\n",
        "wss = sum(np.linalg.norm(embeddings[np.where(labels == i)] - centroids[i])**2 for i in range(k))\n",
        "\n",
        "print(\"Between Sum of Squares (BSS):\", bss)\n",
        "print(\"Within Sum of Squares (WSS):\", wss)"
      ]
    },
    {
      "cell_type": "code",
      "execution_count": null,
      "metadata": {
        "id": "D5O8U7NjTZti"
      },
      "outputs": [],
      "source": [
        "tsne = TSNE(n_components=2, random_state=42)\n",
        "X_tsne = tsne.fit_transform(np.array(embeddings))\n",
        "\n",
        "# Plot the clustering results\n",
        "plt.figure(figsize=(10, 6))\n",
        "plt.scatter(X_tsne[:, 0], X_tsne[:, 1], c=cluster_assignments, cmap='viridis', alpha=0.5)\n",
        "plt.title('t-SNE visualization of K-means clustering')\n",
        "plt.xlabel('t-SNE dimension 1')\n",
        "plt.ylabel('t-SNE dimension 2')\n",
        "plt.colorbar()\n",
        "plt.show()\n"
      ]
    },
    {
      "cell_type": "code",
      "execution_count": null,
      "metadata": {
        "id": "Q4I-dwQe35uX"
      },
      "outputs": [],
      "source": [
        "del embeddings\n",
        "del vector_documents"
      ]
    },
    {
      "cell_type": "markdown",
      "metadata": {
        "id": "2q2fdMjM4Fu2"
      },
      "source": [
        "# Classification with TFIDF + SVM"
      ]
    },
    {
      "cell_type": "code",
      "execution_count": null,
      "metadata": {
        "colab": {
          "background_save": true,
          "base_uri": "https://localhost:8080/"
        },
        "id": "xGETjjq-4FY_",
        "outputId": "a685aa53-a41f-40e8-c5a8-bda85f6b99bb"
      },
      "outputs": [
        {
          "name": "stdout",
          "output_type": "stream",
          "text": [
            "Fitting 5 folds for each of 600 candidates, totalling 3000 fits\n"
          ]
        }
      ],
      "source": [
        "from sklearn.pipeline import Pipeline\n",
        "from sklearn.linear_model import LogisticRegression\n",
        "from sklearn.model_selection import GridSearchCV\n",
        "from sklearn.metrics import accuracy_score\n",
        "\n",
        "# Define the steps in the pipeline\n",
        "steps = [\n",
        "    ('tfidf', TfidfVectorizer()),      # Step 1: TF-IDF vectorization for text data\n",
        "    ('logistic', LogisticRegression(max_iter=500, n_jobs=-1)) # Step 2: Logistic Regression classifier\n",
        "]\n",
        "\n",
        "# Create the pipeline\n",
        "pipeline = Pipeline(steps)\n",
        "\n",
        "# Define parameter grid for hyperparameter tuning\n",
        "param_grid = {\n",
        "    \"tfidf__stop_words\": ['english'],\n",
        "    \"tfidf__ngram_range\": [(1, 1), (1, 2)],\n",
        "    \"tfidf__max_df\": np.arange(0.5, 1.5, 0.1),\n",
        "    \"tfidf__min_df\": np.arange(15, 25, 1),\n",
        "    \"logistic__C\": [0.1, 1, 10],\n",
        "}\n",
        "\n",
        "# Instantiate the GridSearchCV object with scoring parameter\n",
        "grid_search = GridSearchCV(pipeline, param_grid, cv=5, n_jobs=-1, verbose=1, scoring='accuracy')\n",
        "\n",
        "# Fit the grid search to the data\n",
        "grid_search.fit(train_text_noemot, train_label)\n",
        "\n",
        "# Accessing the best parameters and best score\n",
        "print(\"Best Parameters:\", grid_search.best_params_)\n",
        "print(\"Best Score:\", grid_search.best_score_)"
      ]
    },
    {
      "cell_type": "markdown",
      "metadata": {
        "id": "4n4K9UwdQng6"
      },
      "source": [
        "# Indexing"
      ]
    },
    {
      "cell_type": "code",
      "execution_count": null,
      "metadata": {
        "id": "CL0vO-eGYC5r"
      },
      "outputs": [],
      "source": [
        "!pip install -q python-terrier\n",
        "import pyterrier as pt\n",
        "\n",
        "if not pt.started():\n",
        "  pt.init()"
      ]
    },
    {
      "cell_type": "code",
      "execution_count": null,
      "metadata": {
        "id": "5yaapvEmYiAk"
      },
      "outputs": [],
      "source": [
        "train_text_df = pd.DataFrame({'text':text_train, 'docno' : range(1, len(text_train)+1) })"
      ]
    },
    {
      "cell_type": "code",
      "execution_count": null,
      "metadata": {
        "id": "CCRxBj7GYnMk"
      },
      "outputs": [],
      "source": [
        "indexer = pt.DFIndexer(\"train_index_my\", overwrite=True)\n",
        "index_ref = indexer.index(train_text_df['text'], train_text_df['docno'])\n",
        "index_ref.toString()"
      ]
    },
    {
      "cell_type": "code",
      "execution_count": null,
      "metadata": {
        "id": "bEzINWdLeRf4"
      },
      "outputs": [],
      "source": [
        "del train_text_df"
      ]
    }
  ],
  "metadata": {
    "accelerator": "GPU",
    "colab": {
      "collapsed_sections": [
        "4n4K9UwdQng6"
      ],
      "gpuType": "T4",
      "provenance": []
    },
    "kernelspec": {
      "display_name": "Python 3",
      "name": "python3"
    },
    "language_info": {
      "name": "python"
    },
    "widgets": {
      "application/vnd.jupyter.widget-state+json": {
        "1402fa3f58e947aca212b43557ecb256": {
          "model_module": "@jupyter-widgets/base",
          "model_module_version": "1.2.0",
          "model_name": "LayoutModel",
          "state": {
            "_model_module": "@jupyter-widgets/base",
            "_model_module_version": "1.2.0",
            "_model_name": "LayoutModel",
            "_view_count": null,
            "_view_module": "@jupyter-widgets/base",
            "_view_module_version": "1.2.0",
            "_view_name": "LayoutView",
            "align_content": null,
            "align_items": null,
            "align_self": null,
            "border": null,
            "bottom": null,
            "display": null,
            "flex": null,
            "flex_flow": null,
            "grid_area": null,
            "grid_auto_columns": null,
            "grid_auto_flow": null,
            "grid_auto_rows": null,
            "grid_column": null,
            "grid_gap": null,
            "grid_row": null,
            "grid_template_areas": null,
            "grid_template_columns": null,
            "grid_template_rows": null,
            "height": null,
            "justify_content": null,
            "justify_items": null,
            "left": null,
            "margin": null,
            "max_height": null,
            "max_width": null,
            "min_height": null,
            "min_width": null,
            "object_fit": null,
            "object_position": null,
            "order": null,
            "overflow": null,
            "overflow_x": null,
            "overflow_y": null,
            "padding": null,
            "right": null,
            "top": null,
            "visibility": null,
            "width": null
          }
        },
        "15498cc27759403898da6e8b6b734231": {
          "model_module": "@jupyter-widgets/base",
          "model_module_version": "1.2.0",
          "model_name": "LayoutModel",
          "state": {
            "_model_module": "@jupyter-widgets/base",
            "_model_module_version": "1.2.0",
            "_model_name": "LayoutModel",
            "_view_count": null,
            "_view_module": "@jupyter-widgets/base",
            "_view_module_version": "1.2.0",
            "_view_name": "LayoutView",
            "align_content": null,
            "align_items": null,
            "align_self": null,
            "border": null,
            "bottom": null,
            "display": null,
            "flex": null,
            "flex_flow": null,
            "grid_area": null,
            "grid_auto_columns": null,
            "grid_auto_flow": null,
            "grid_auto_rows": null,
            "grid_column": null,
            "grid_gap": null,
            "grid_row": null,
            "grid_template_areas": null,
            "grid_template_columns": null,
            "grid_template_rows": null,
            "height": null,
            "justify_content": null,
            "justify_items": null,
            "left": null,
            "margin": null,
            "max_height": null,
            "max_width": null,
            "min_height": null,
            "min_width": null,
            "object_fit": null,
            "object_position": null,
            "order": null,
            "overflow": null,
            "overflow_x": null,
            "overflow_y": null,
            "padding": null,
            "right": null,
            "top": null,
            "visibility": null,
            "width": null
          }
        },
        "1afda774cff64261b894f00423c8c6a4": {
          "model_module": "@jupyter-widgets/controls",
          "model_module_version": "1.5.0",
          "model_name": "FloatProgressModel",
          "state": {
            "_dom_classes": [],
            "_model_module": "@jupyter-widgets/controls",
            "_model_module_version": "1.5.0",
            "_model_name": "FloatProgressModel",
            "_view_count": null,
            "_view_module": "@jupyter-widgets/controls",
            "_view_module_version": "1.5.0",
            "_view_name": "ProgressView",
            "bar_style": "success",
            "description": "",
            "description_tooltip": null,
            "layout": "IPY_MODEL_e2ebf48ece8d4ccda0ab216fd98c46ca",
            "max": 650000,
            "min": 0,
            "orientation": "horizontal",
            "style": "IPY_MODEL_b3d1790d5e7e4c6babdbe233c60df789",
            "value": 650000
          }
        },
        "1e198dcdc8744c89b45f296f9ed485b3": {
          "model_module": "@jupyter-widgets/controls",
          "model_module_version": "1.5.0",
          "model_name": "HTMLModel",
          "state": {
            "_dom_classes": [],
            "_model_module": "@jupyter-widgets/controls",
            "_model_module_version": "1.5.0",
            "_model_name": "HTMLModel",
            "_view_count": null,
            "_view_module": "@jupyter-widgets/controls",
            "_view_module_version": "1.5.0",
            "_view_name": "HTMLView",
            "description": "",
            "description_tooltip": null,
            "layout": "IPY_MODEL_b65b9573e4df4a189a561d8cb9dc5762",
            "placeholder": "​",
            "style": "IPY_MODEL_6125c2601b884e1580c2d670fc0c49be",
            "value": " 650000/650000 [00:07&lt;00:00, 91861.71 examples/s]"
          }
        },
        "202b17098b344110a88b9e318ebebc01": {
          "model_module": "@jupyter-widgets/controls",
          "model_module_version": "1.5.0",
          "model_name": "HTMLModel",
          "state": {
            "_dom_classes": [],
            "_model_module": "@jupyter-widgets/controls",
            "_model_module_version": "1.5.0",
            "_model_name": "HTMLModel",
            "_view_count": null,
            "_view_module": "@jupyter-widgets/controls",
            "_view_module_version": "1.5.0",
            "_view_name": "HTMLView",
            "description": "",
            "description_tooltip": null,
            "layout": "IPY_MODEL_316a6c8a5d8d428ea6882a26db1617a8",
            "placeholder": "​",
            "style": "IPY_MODEL_df907d0167cd4b25b0afd25d7f70cd1b",
            "value": "Downloading readme: 100%"
          }
        },
        "21a9556ffdc446de93c9aedc0a1e7a1b": {
          "model_module": "@jupyter-widgets/controls",
          "model_module_version": "1.5.0",
          "model_name": "DescriptionStyleModel",
          "state": {
            "_model_module": "@jupyter-widgets/controls",
            "_model_module_version": "1.5.0",
            "_model_name": "DescriptionStyleModel",
            "_view_count": null,
            "_view_module": "@jupyter-widgets/base",
            "_view_module_version": "1.2.0",
            "_view_name": "StyleView",
            "description_width": ""
          }
        },
        "2347de7739574a22a117be8fb06a8511": {
          "model_module": "@jupyter-widgets/controls",
          "model_module_version": "1.5.0",
          "model_name": "HBoxModel",
          "state": {
            "_dom_classes": [],
            "_model_module": "@jupyter-widgets/controls",
            "_model_module_version": "1.5.0",
            "_model_name": "HBoxModel",
            "_view_count": null,
            "_view_module": "@jupyter-widgets/controls",
            "_view_module_version": "1.5.0",
            "_view_name": "HBoxView",
            "box_style": "",
            "children": [
              "IPY_MODEL_5a71c158910a4932ba619c165b2bb33b",
              "IPY_MODEL_1afda774cff64261b894f00423c8c6a4",
              "IPY_MODEL_1e198dcdc8744c89b45f296f9ed485b3"
            ],
            "layout": "IPY_MODEL_89a4c65d129a4ab99ecebcfa0450094b"
          }
        },
        "2ef03e2bf27f4362892d83be5778563f": {
          "model_module": "@jupyter-widgets/controls",
          "model_module_version": "1.5.0",
          "model_name": "FloatProgressModel",
          "state": {
            "_dom_classes": [],
            "_model_module": "@jupyter-widgets/controls",
            "_model_module_version": "1.5.0",
            "_model_name": "FloatProgressModel",
            "_view_count": null,
            "_view_module": "@jupyter-widgets/controls",
            "_view_module_version": "1.5.0",
            "_view_name": "ProgressView",
            "bar_style": "success",
            "description": "",
            "description_tooltip": null,
            "layout": "IPY_MODEL_e870de7f34b24ee8b55c5a8ad1c055ed",
            "max": 50000,
            "min": 0,
            "orientation": "horizontal",
            "style": "IPY_MODEL_79f25ddee6e643cc9fd00ac9da42dca6",
            "value": 50000
          }
        },
        "316a6c8a5d8d428ea6882a26db1617a8": {
          "model_module": "@jupyter-widgets/base",
          "model_module_version": "1.2.0",
          "model_name": "LayoutModel",
          "state": {
            "_model_module": "@jupyter-widgets/base",
            "_model_module_version": "1.2.0",
            "_model_name": "LayoutModel",
            "_view_count": null,
            "_view_module": "@jupyter-widgets/base",
            "_view_module_version": "1.2.0",
            "_view_name": "LayoutView",
            "align_content": null,
            "align_items": null,
            "align_self": null,
            "border": null,
            "bottom": null,
            "display": null,
            "flex": null,
            "flex_flow": null,
            "grid_area": null,
            "grid_auto_columns": null,
            "grid_auto_flow": null,
            "grid_auto_rows": null,
            "grid_column": null,
            "grid_gap": null,
            "grid_row": null,
            "grid_template_areas": null,
            "grid_template_columns": null,
            "grid_template_rows": null,
            "height": null,
            "justify_content": null,
            "justify_items": null,
            "left": null,
            "margin": null,
            "max_height": null,
            "max_width": null,
            "min_height": null,
            "min_width": null,
            "object_fit": null,
            "object_position": null,
            "order": null,
            "overflow": null,
            "overflow_x": null,
            "overflow_y": null,
            "padding": null,
            "right": null,
            "top": null,
            "visibility": null,
            "width": null
          }
        },
        "38d9385ee772435c8a517f4a704fb25a": {
          "model_module": "@jupyter-widgets/controls",
          "model_module_version": "1.5.0",
          "model_name": "FloatProgressModel",
          "state": {
            "_dom_classes": [],
            "_model_module": "@jupyter-widgets/controls",
            "_model_module_version": "1.5.0",
            "_model_name": "FloatProgressModel",
            "_view_count": null,
            "_view_module": "@jupyter-widgets/controls",
            "_view_module_version": "1.5.0",
            "_view_name": "ProgressView",
            "bar_style": "success",
            "description": "",
            "description_tooltip": null,
            "layout": "IPY_MODEL_dfe348a4f798409b9f4c8d7025759aa0",
            "max": 6724,
            "min": 0,
            "orientation": "horizontal",
            "style": "IPY_MODEL_96e85f17aef34e73a921ecadd89e875a",
            "value": 6724
          }
        },
        "3cd193b82d514629ae81682d180ffa3b": {
          "model_module": "@jupyter-widgets/controls",
          "model_module_version": "1.5.0",
          "model_name": "HTMLModel",
          "state": {
            "_dom_classes": [],
            "_model_module": "@jupyter-widgets/controls",
            "_model_module_version": "1.5.0",
            "_model_name": "HTMLModel",
            "_view_count": null,
            "_view_module": "@jupyter-widgets/controls",
            "_view_module_version": "1.5.0",
            "_view_name": "HTMLView",
            "description": "",
            "description_tooltip": null,
            "layout": "IPY_MODEL_f01ac3b97f194eb8947c136e6c8c4806",
            "placeholder": "​",
            "style": "IPY_MODEL_b802c7f0d48c4f4eb54ec0a85ff129ce",
            "value": "Downloading data: 100%"
          }
        },
        "526bd821aa4d434b8f11032d13831027": {
          "model_module": "@jupyter-widgets/base",
          "model_module_version": "1.2.0",
          "model_name": "LayoutModel",
          "state": {
            "_model_module": "@jupyter-widgets/base",
            "_model_module_version": "1.2.0",
            "_model_name": "LayoutModel",
            "_view_count": null,
            "_view_module": "@jupyter-widgets/base",
            "_view_module_version": "1.2.0",
            "_view_name": "LayoutView",
            "align_content": null,
            "align_items": null,
            "align_self": null,
            "border": null,
            "bottom": null,
            "display": null,
            "flex": null,
            "flex_flow": null,
            "grid_area": null,
            "grid_auto_columns": null,
            "grid_auto_flow": null,
            "grid_auto_rows": null,
            "grid_column": null,
            "grid_gap": null,
            "grid_row": null,
            "grid_template_areas": null,
            "grid_template_columns": null,
            "grid_template_rows": null,
            "height": null,
            "justify_content": null,
            "justify_items": null,
            "left": null,
            "margin": null,
            "max_height": null,
            "max_width": null,
            "min_height": null,
            "min_width": null,
            "object_fit": null,
            "object_position": null,
            "order": null,
            "overflow": null,
            "overflow_x": null,
            "overflow_y": null,
            "padding": null,
            "right": null,
            "top": null,
            "visibility": null,
            "width": null
          }
        },
        "59528eb6be68440683aaad90d7906646": {
          "model_module": "@jupyter-widgets/controls",
          "model_module_version": "1.5.0",
          "model_name": "DescriptionStyleModel",
          "state": {
            "_model_module": "@jupyter-widgets/controls",
            "_model_module_version": "1.5.0",
            "_model_name": "DescriptionStyleModel",
            "_view_count": null,
            "_view_module": "@jupyter-widgets/base",
            "_view_module_version": "1.2.0",
            "_view_name": "StyleView",
            "description_width": ""
          }
        },
        "5a71c158910a4932ba619c165b2bb33b": {
          "model_module": "@jupyter-widgets/controls",
          "model_module_version": "1.5.0",
          "model_name": "HTMLModel",
          "state": {
            "_dom_classes": [],
            "_model_module": "@jupyter-widgets/controls",
            "_model_module_version": "1.5.0",
            "_model_name": "HTMLModel",
            "_view_count": null,
            "_view_module": "@jupyter-widgets/controls",
            "_view_module_version": "1.5.0",
            "_view_name": "HTMLView",
            "description": "",
            "description_tooltip": null,
            "layout": "IPY_MODEL_5c0f59eaba6c4599bb36fd9096e22bc8",
            "placeholder": "​",
            "style": "IPY_MODEL_7361a272101841e9a548a4f728c7db31",
            "value": "Generating train split: 100%"
          }
        },
        "5c0f59eaba6c4599bb36fd9096e22bc8": {
          "model_module": "@jupyter-widgets/base",
          "model_module_version": "1.2.0",
          "model_name": "LayoutModel",
          "state": {
            "_model_module": "@jupyter-widgets/base",
            "_model_module_version": "1.2.0",
            "_model_name": "LayoutModel",
            "_view_count": null,
            "_view_module": "@jupyter-widgets/base",
            "_view_module_version": "1.2.0",
            "_view_name": "LayoutView",
            "align_content": null,
            "align_items": null,
            "align_self": null,
            "border": null,
            "bottom": null,
            "display": null,
            "flex": null,
            "flex_flow": null,
            "grid_area": null,
            "grid_auto_columns": null,
            "grid_auto_flow": null,
            "grid_auto_rows": null,
            "grid_column": null,
            "grid_gap": null,
            "grid_row": null,
            "grid_template_areas": null,
            "grid_template_columns": null,
            "grid_template_rows": null,
            "height": null,
            "justify_content": null,
            "justify_items": null,
            "left": null,
            "margin": null,
            "max_height": null,
            "max_width": null,
            "min_height": null,
            "min_width": null,
            "object_fit": null,
            "object_position": null,
            "order": null,
            "overflow": null,
            "overflow_x": null,
            "overflow_y": null,
            "padding": null,
            "right": null,
            "top": null,
            "visibility": null,
            "width": null
          }
        },
        "60a12f05a37d4315891ac711baf1deb0": {
          "model_module": "@jupyter-widgets/controls",
          "model_module_version": "1.5.0",
          "model_name": "HBoxModel",
          "state": {
            "_dom_classes": [],
            "_model_module": "@jupyter-widgets/controls",
            "_model_module_version": "1.5.0",
            "_model_name": "HBoxModel",
            "_view_count": null,
            "_view_module": "@jupyter-widgets/controls",
            "_view_module_version": "1.5.0",
            "_view_name": "HBoxView",
            "box_style": "",
            "children": [
              "IPY_MODEL_3cd193b82d514629ae81682d180ffa3b",
              "IPY_MODEL_762f4a98ee0c47b9903bff6aeb9bc97f",
              "IPY_MODEL_c719f116005e4fa68594b9ed53c01882"
            ],
            "layout": "IPY_MODEL_8321e1e9c4634b65bd05e3766f9bcbb6"
          }
        },
        "6125c2601b884e1580c2d670fc0c49be": {
          "model_module": "@jupyter-widgets/controls",
          "model_module_version": "1.5.0",
          "model_name": "DescriptionStyleModel",
          "state": {
            "_model_module": "@jupyter-widgets/controls",
            "_model_module_version": "1.5.0",
            "_model_name": "DescriptionStyleModel",
            "_view_count": null,
            "_view_module": "@jupyter-widgets/base",
            "_view_module_version": "1.2.0",
            "_view_name": "StyleView",
            "description_width": ""
          }
        },
        "6c410bea5d5b44d780e0eb47c348883d": {
          "model_module": "@jupyter-widgets/controls",
          "model_module_version": "1.5.0",
          "model_name": "DescriptionStyleModel",
          "state": {
            "_model_module": "@jupyter-widgets/controls",
            "_model_module_version": "1.5.0",
            "_model_name": "DescriptionStyleModel",
            "_view_count": null,
            "_view_module": "@jupyter-widgets/base",
            "_view_module_version": "1.2.0",
            "_view_name": "StyleView",
            "description_width": ""
          }
        },
        "7361a272101841e9a548a4f728c7db31": {
          "model_module": "@jupyter-widgets/controls",
          "model_module_version": "1.5.0",
          "model_name": "DescriptionStyleModel",
          "state": {
            "_model_module": "@jupyter-widgets/controls",
            "_model_module_version": "1.5.0",
            "_model_name": "DescriptionStyleModel",
            "_view_count": null,
            "_view_module": "@jupyter-widgets/base",
            "_view_module_version": "1.2.0",
            "_view_name": "StyleView",
            "description_width": ""
          }
        },
        "73f8fb8bbb0b463eaa636da992740101": {
          "model_module": "@jupyter-widgets/base",
          "model_module_version": "1.2.0",
          "model_name": "LayoutModel",
          "state": {
            "_model_module": "@jupyter-widgets/base",
            "_model_module_version": "1.2.0",
            "_model_name": "LayoutModel",
            "_view_count": null,
            "_view_module": "@jupyter-widgets/base",
            "_view_module_version": "1.2.0",
            "_view_name": "LayoutView",
            "align_content": null,
            "align_items": null,
            "align_self": null,
            "border": null,
            "bottom": null,
            "display": null,
            "flex": null,
            "flex_flow": null,
            "grid_area": null,
            "grid_auto_columns": null,
            "grid_auto_flow": null,
            "grid_auto_rows": null,
            "grid_column": null,
            "grid_gap": null,
            "grid_row": null,
            "grid_template_areas": null,
            "grid_template_columns": null,
            "grid_template_rows": null,
            "height": null,
            "justify_content": null,
            "justify_items": null,
            "left": null,
            "margin": null,
            "max_height": null,
            "max_width": null,
            "min_height": null,
            "min_width": null,
            "object_fit": null,
            "object_position": null,
            "order": null,
            "overflow": null,
            "overflow_x": null,
            "overflow_y": null,
            "padding": null,
            "right": null,
            "top": null,
            "visibility": null,
            "width": null
          }
        },
        "750ae7633cfc4fd69ffffd5c6b3cdce7": {
          "model_module": "@jupyter-widgets/controls",
          "model_module_version": "1.5.0",
          "model_name": "HTMLModel",
          "state": {
            "_dom_classes": [],
            "_model_module": "@jupyter-widgets/controls",
            "_model_module_version": "1.5.0",
            "_model_name": "HTMLModel",
            "_view_count": null,
            "_view_module": "@jupyter-widgets/controls",
            "_view_module_version": "1.5.0",
            "_view_name": "HTMLView",
            "description": "",
            "description_tooltip": null,
            "layout": "IPY_MODEL_c15b3a35306c4c81b5742dc0358b07b5",
            "placeholder": "​",
            "style": "IPY_MODEL_c079222725954311b72fecaa2855048f",
            "value": " 6.72k/6.72k [00:00&lt;00:00, 216kB/s]"
          }
        },
        "762f4a98ee0c47b9903bff6aeb9bc97f": {
          "model_module": "@jupyter-widgets/controls",
          "model_module_version": "1.5.0",
          "model_name": "FloatProgressModel",
          "state": {
            "_dom_classes": [],
            "_model_module": "@jupyter-widgets/controls",
            "_model_module_version": "1.5.0",
            "_model_name": "FloatProgressModel",
            "_view_count": null,
            "_view_module": "@jupyter-widgets/controls",
            "_view_module_version": "1.5.0",
            "_view_name": "ProgressView",
            "bar_style": "success",
            "description": "",
            "description_tooltip": null,
            "layout": "IPY_MODEL_a88736743b8548daacebd4024492bace",
            "max": 23515519,
            "min": 0,
            "orientation": "horizontal",
            "style": "IPY_MODEL_94b7c3a89ffc4974ac58e0457f9d8ada",
            "value": 23515519
          }
        },
        "79d7b6bd78414e638a6636f79f83279e": {
          "model_module": "@jupyter-widgets/controls",
          "model_module_version": "1.5.0",
          "model_name": "HTMLModel",
          "state": {
            "_dom_classes": [],
            "_model_module": "@jupyter-widgets/controls",
            "_model_module_version": "1.5.0",
            "_model_name": "HTMLModel",
            "_view_count": null,
            "_view_module": "@jupyter-widgets/controls",
            "_view_module_version": "1.5.0",
            "_view_name": "HTMLView",
            "description": "",
            "description_tooltip": null,
            "layout": "IPY_MODEL_15498cc27759403898da6e8b6b734231",
            "placeholder": "​",
            "style": "IPY_MODEL_21a9556ffdc446de93c9aedc0a1e7a1b",
            "value": "Downloading data: 100%"
          }
        },
        "79f25ddee6e643cc9fd00ac9da42dca6": {
          "model_module": "@jupyter-widgets/controls",
          "model_module_version": "1.5.0",
          "model_name": "ProgressStyleModel",
          "state": {
            "_model_module": "@jupyter-widgets/controls",
            "_model_module_version": "1.5.0",
            "_model_name": "ProgressStyleModel",
            "_view_count": null,
            "_view_module": "@jupyter-widgets/base",
            "_view_module_version": "1.2.0",
            "_view_name": "StyleView",
            "bar_color": null,
            "description_width": ""
          }
        },
        "80c02b4423e14de0a8b8d4e6a81b2657": {
          "model_module": "@jupyter-widgets/controls",
          "model_module_version": "1.5.0",
          "model_name": "FloatProgressModel",
          "state": {
            "_dom_classes": [],
            "_model_module": "@jupyter-widgets/controls",
            "_model_module_version": "1.5.0",
            "_model_name": "FloatProgressModel",
            "_view_count": null,
            "_view_module": "@jupyter-widgets/controls",
            "_view_module_version": "1.5.0",
            "_view_name": "ProgressView",
            "bar_style": "success",
            "description": "",
            "description_tooltip": null,
            "layout": "IPY_MODEL_a700fea01dc2456e927053de6ca8a536",
            "max": 299436850,
            "min": 0,
            "orientation": "horizontal",
            "style": "IPY_MODEL_ca0bb3666da040938262c51d6702c473",
            "value": 299436850
          }
        },
        "8321e1e9c4634b65bd05e3766f9bcbb6": {
          "model_module": "@jupyter-widgets/base",
          "model_module_version": "1.2.0",
          "model_name": "LayoutModel",
          "state": {
            "_model_module": "@jupyter-widgets/base",
            "_model_module_version": "1.2.0",
            "_model_name": "LayoutModel",
            "_view_count": null,
            "_view_module": "@jupyter-widgets/base",
            "_view_module_version": "1.2.0",
            "_view_name": "LayoutView",
            "align_content": null,
            "align_items": null,
            "align_self": null,
            "border": null,
            "bottom": null,
            "display": null,
            "flex": null,
            "flex_flow": null,
            "grid_area": null,
            "grid_auto_columns": null,
            "grid_auto_flow": null,
            "grid_auto_rows": null,
            "grid_column": null,
            "grid_gap": null,
            "grid_row": null,
            "grid_template_areas": null,
            "grid_template_columns": null,
            "grid_template_rows": null,
            "height": null,
            "justify_content": null,
            "justify_items": null,
            "left": null,
            "margin": null,
            "max_height": null,
            "max_width": null,
            "min_height": null,
            "min_width": null,
            "object_fit": null,
            "object_position": null,
            "order": null,
            "overflow": null,
            "overflow_x": null,
            "overflow_y": null,
            "padding": null,
            "right": null,
            "top": null,
            "visibility": null,
            "width": null
          }
        },
        "8939db8e5fbe40b2b665da2d875f8a08": {
          "model_module": "@jupyter-widgets/base",
          "model_module_version": "1.2.0",
          "model_name": "LayoutModel",
          "state": {
            "_model_module": "@jupyter-widgets/base",
            "_model_module_version": "1.2.0",
            "_model_name": "LayoutModel",
            "_view_count": null,
            "_view_module": "@jupyter-widgets/base",
            "_view_module_version": "1.2.0",
            "_view_name": "LayoutView",
            "align_content": null,
            "align_items": null,
            "align_self": null,
            "border": null,
            "bottom": null,
            "display": null,
            "flex": null,
            "flex_flow": null,
            "grid_area": null,
            "grid_auto_columns": null,
            "grid_auto_flow": null,
            "grid_auto_rows": null,
            "grid_column": null,
            "grid_gap": null,
            "grid_row": null,
            "grid_template_areas": null,
            "grid_template_columns": null,
            "grid_template_rows": null,
            "height": null,
            "justify_content": null,
            "justify_items": null,
            "left": null,
            "margin": null,
            "max_height": null,
            "max_width": null,
            "min_height": null,
            "min_width": null,
            "object_fit": null,
            "object_position": null,
            "order": null,
            "overflow": null,
            "overflow_x": null,
            "overflow_y": null,
            "padding": null,
            "right": null,
            "top": null,
            "visibility": null,
            "width": null
          }
        },
        "89a4c65d129a4ab99ecebcfa0450094b": {
          "model_module": "@jupyter-widgets/base",
          "model_module_version": "1.2.0",
          "model_name": "LayoutModel",
          "state": {
            "_model_module": "@jupyter-widgets/base",
            "_model_module_version": "1.2.0",
            "_model_name": "LayoutModel",
            "_view_count": null,
            "_view_module": "@jupyter-widgets/base",
            "_view_module_version": "1.2.0",
            "_view_name": "LayoutView",
            "align_content": null,
            "align_items": null,
            "align_self": null,
            "border": null,
            "bottom": null,
            "display": null,
            "flex": null,
            "flex_flow": null,
            "grid_area": null,
            "grid_auto_columns": null,
            "grid_auto_flow": null,
            "grid_auto_rows": null,
            "grid_column": null,
            "grid_gap": null,
            "grid_row": null,
            "grid_template_areas": null,
            "grid_template_columns": null,
            "grid_template_rows": null,
            "height": null,
            "justify_content": null,
            "justify_items": null,
            "left": null,
            "margin": null,
            "max_height": null,
            "max_width": null,
            "min_height": null,
            "min_width": null,
            "object_fit": null,
            "object_position": null,
            "order": null,
            "overflow": null,
            "overflow_x": null,
            "overflow_y": null,
            "padding": null,
            "right": null,
            "top": null,
            "visibility": null,
            "width": null
          }
        },
        "94b7c3a89ffc4974ac58e0457f9d8ada": {
          "model_module": "@jupyter-widgets/controls",
          "model_module_version": "1.5.0",
          "model_name": "ProgressStyleModel",
          "state": {
            "_model_module": "@jupyter-widgets/controls",
            "_model_module_version": "1.5.0",
            "_model_name": "ProgressStyleModel",
            "_view_count": null,
            "_view_module": "@jupyter-widgets/base",
            "_view_module_version": "1.2.0",
            "_view_name": "StyleView",
            "bar_color": null,
            "description_width": ""
          }
        },
        "96e85f17aef34e73a921ecadd89e875a": {
          "model_module": "@jupyter-widgets/controls",
          "model_module_version": "1.5.0",
          "model_name": "ProgressStyleModel",
          "state": {
            "_model_module": "@jupyter-widgets/controls",
            "_model_module_version": "1.5.0",
            "_model_name": "ProgressStyleModel",
            "_view_count": null,
            "_view_module": "@jupyter-widgets/base",
            "_view_module_version": "1.2.0",
            "_view_name": "StyleView",
            "bar_color": null,
            "description_width": ""
          }
        },
        "9b503817e18946079055e2b7c19d35e9": {
          "model_module": "@jupyter-widgets/controls",
          "model_module_version": "1.5.0",
          "model_name": "HTMLModel",
          "state": {
            "_dom_classes": [],
            "_model_module": "@jupyter-widgets/controls",
            "_model_module_version": "1.5.0",
            "_model_name": "HTMLModel",
            "_view_count": null,
            "_view_module": "@jupyter-widgets/controls",
            "_view_module_version": "1.5.0",
            "_view_name": "HTMLView",
            "description": "",
            "description_tooltip": null,
            "layout": "IPY_MODEL_a366cc6dbfbf47c2beae6ccfd03174de",
            "placeholder": "​",
            "style": "IPY_MODEL_6c410bea5d5b44d780e0eb47c348883d",
            "value": "Generating test split: 100%"
          }
        },
        "a366cc6dbfbf47c2beae6ccfd03174de": {
          "model_module": "@jupyter-widgets/base",
          "model_module_version": "1.2.0",
          "model_name": "LayoutModel",
          "state": {
            "_model_module": "@jupyter-widgets/base",
            "_model_module_version": "1.2.0",
            "_model_name": "LayoutModel",
            "_view_count": null,
            "_view_module": "@jupyter-widgets/base",
            "_view_module_version": "1.2.0",
            "_view_name": "LayoutView",
            "align_content": null,
            "align_items": null,
            "align_self": null,
            "border": null,
            "bottom": null,
            "display": null,
            "flex": null,
            "flex_flow": null,
            "grid_area": null,
            "grid_auto_columns": null,
            "grid_auto_flow": null,
            "grid_auto_rows": null,
            "grid_column": null,
            "grid_gap": null,
            "grid_row": null,
            "grid_template_areas": null,
            "grid_template_columns": null,
            "grid_template_rows": null,
            "height": null,
            "justify_content": null,
            "justify_items": null,
            "left": null,
            "margin": null,
            "max_height": null,
            "max_width": null,
            "min_height": null,
            "min_width": null,
            "object_fit": null,
            "object_position": null,
            "order": null,
            "overflow": null,
            "overflow_x": null,
            "overflow_y": null,
            "padding": null,
            "right": null,
            "top": null,
            "visibility": null,
            "width": null
          }
        },
        "a700fea01dc2456e927053de6ca8a536": {
          "model_module": "@jupyter-widgets/base",
          "model_module_version": "1.2.0",
          "model_name": "LayoutModel",
          "state": {
            "_model_module": "@jupyter-widgets/base",
            "_model_module_version": "1.2.0",
            "_model_name": "LayoutModel",
            "_view_count": null,
            "_view_module": "@jupyter-widgets/base",
            "_view_module_version": "1.2.0",
            "_view_name": "LayoutView",
            "align_content": null,
            "align_items": null,
            "align_self": null,
            "border": null,
            "bottom": null,
            "display": null,
            "flex": null,
            "flex_flow": null,
            "grid_area": null,
            "grid_auto_columns": null,
            "grid_auto_flow": null,
            "grid_auto_rows": null,
            "grid_column": null,
            "grid_gap": null,
            "grid_row": null,
            "grid_template_areas": null,
            "grid_template_columns": null,
            "grid_template_rows": null,
            "height": null,
            "justify_content": null,
            "justify_items": null,
            "left": null,
            "margin": null,
            "max_height": null,
            "max_width": null,
            "min_height": null,
            "min_width": null,
            "object_fit": null,
            "object_position": null,
            "order": null,
            "overflow": null,
            "overflow_x": null,
            "overflow_y": null,
            "padding": null,
            "right": null,
            "top": null,
            "visibility": null,
            "width": null
          }
        },
        "a78f087a74774ca4bca7cb961e7a25d0": {
          "model_module": "@jupyter-widgets/controls",
          "model_module_version": "1.5.0",
          "model_name": "HTMLModel",
          "state": {
            "_dom_classes": [],
            "_model_module": "@jupyter-widgets/controls",
            "_model_module_version": "1.5.0",
            "_model_name": "HTMLModel",
            "_view_count": null,
            "_view_module": "@jupyter-widgets/controls",
            "_view_module_version": "1.5.0",
            "_view_name": "HTMLView",
            "description": "",
            "description_tooltip": null,
            "layout": "IPY_MODEL_73f8fb8bbb0b463eaa636da992740101",
            "placeholder": "​",
            "style": "IPY_MODEL_59528eb6be68440683aaad90d7906646",
            "value": " 50000/50000 [00:00&lt;00:00, 113031.02 examples/s]"
          }
        },
        "a88736743b8548daacebd4024492bace": {
          "model_module": "@jupyter-widgets/base",
          "model_module_version": "1.2.0",
          "model_name": "LayoutModel",
          "state": {
            "_model_module": "@jupyter-widgets/base",
            "_model_module_version": "1.2.0",
            "_model_name": "LayoutModel",
            "_view_count": null,
            "_view_module": "@jupyter-widgets/base",
            "_view_module_version": "1.2.0",
            "_view_name": "LayoutView",
            "align_content": null,
            "align_items": null,
            "align_self": null,
            "border": null,
            "bottom": null,
            "display": null,
            "flex": null,
            "flex_flow": null,
            "grid_area": null,
            "grid_auto_columns": null,
            "grid_auto_flow": null,
            "grid_auto_rows": null,
            "grid_column": null,
            "grid_gap": null,
            "grid_row": null,
            "grid_template_areas": null,
            "grid_template_columns": null,
            "grid_template_rows": null,
            "height": null,
            "justify_content": null,
            "justify_items": null,
            "left": null,
            "margin": null,
            "max_height": null,
            "max_width": null,
            "min_height": null,
            "min_width": null,
            "object_fit": null,
            "object_position": null,
            "order": null,
            "overflow": null,
            "overflow_x": null,
            "overflow_y": null,
            "padding": null,
            "right": null,
            "top": null,
            "visibility": null,
            "width": null
          }
        },
        "a9140259bde34b8791e3786260fdede4": {
          "model_module": "@jupyter-widgets/controls",
          "model_module_version": "1.5.0",
          "model_name": "DescriptionStyleModel",
          "state": {
            "_model_module": "@jupyter-widgets/controls",
            "_model_module_version": "1.5.0",
            "_model_name": "DescriptionStyleModel",
            "_view_count": null,
            "_view_module": "@jupyter-widgets/base",
            "_view_module_version": "1.2.0",
            "_view_name": "StyleView",
            "description_width": ""
          }
        },
        "b3d1790d5e7e4c6babdbe233c60df789": {
          "model_module": "@jupyter-widgets/controls",
          "model_module_version": "1.5.0",
          "model_name": "ProgressStyleModel",
          "state": {
            "_model_module": "@jupyter-widgets/controls",
            "_model_module_version": "1.5.0",
            "_model_name": "ProgressStyleModel",
            "_view_count": null,
            "_view_module": "@jupyter-widgets/base",
            "_view_module_version": "1.2.0",
            "_view_name": "StyleView",
            "bar_color": null,
            "description_width": ""
          }
        },
        "b51a3a7640af4f8cbe252ef61fb5e5f6": {
          "model_module": "@jupyter-widgets/controls",
          "model_module_version": "1.5.0",
          "model_name": "DescriptionStyleModel",
          "state": {
            "_model_module": "@jupyter-widgets/controls",
            "_model_module_version": "1.5.0",
            "_model_name": "DescriptionStyleModel",
            "_view_count": null,
            "_view_module": "@jupyter-widgets/base",
            "_view_module_version": "1.2.0",
            "_view_name": "StyleView",
            "description_width": ""
          }
        },
        "b65b9573e4df4a189a561d8cb9dc5762": {
          "model_module": "@jupyter-widgets/base",
          "model_module_version": "1.2.0",
          "model_name": "LayoutModel",
          "state": {
            "_model_module": "@jupyter-widgets/base",
            "_model_module_version": "1.2.0",
            "_model_name": "LayoutModel",
            "_view_count": null,
            "_view_module": "@jupyter-widgets/base",
            "_view_module_version": "1.2.0",
            "_view_name": "LayoutView",
            "align_content": null,
            "align_items": null,
            "align_self": null,
            "border": null,
            "bottom": null,
            "display": null,
            "flex": null,
            "flex_flow": null,
            "grid_area": null,
            "grid_auto_columns": null,
            "grid_auto_flow": null,
            "grid_auto_rows": null,
            "grid_column": null,
            "grid_gap": null,
            "grid_row": null,
            "grid_template_areas": null,
            "grid_template_columns": null,
            "grid_template_rows": null,
            "height": null,
            "justify_content": null,
            "justify_items": null,
            "left": null,
            "margin": null,
            "max_height": null,
            "max_width": null,
            "min_height": null,
            "min_width": null,
            "object_fit": null,
            "object_position": null,
            "order": null,
            "overflow": null,
            "overflow_x": null,
            "overflow_y": null,
            "padding": null,
            "right": null,
            "top": null,
            "visibility": null,
            "width": null
          }
        },
        "b802c7f0d48c4f4eb54ec0a85ff129ce": {
          "model_module": "@jupyter-widgets/controls",
          "model_module_version": "1.5.0",
          "model_name": "DescriptionStyleModel",
          "state": {
            "_model_module": "@jupyter-widgets/controls",
            "_model_module_version": "1.5.0",
            "_model_name": "DescriptionStyleModel",
            "_view_count": null,
            "_view_module": "@jupyter-widgets/base",
            "_view_module_version": "1.2.0",
            "_view_name": "StyleView",
            "description_width": ""
          }
        },
        "bd9fe2c706ce47cbae2f3aff514cfed2": {
          "model_module": "@jupyter-widgets/base",
          "model_module_version": "1.2.0",
          "model_name": "LayoutModel",
          "state": {
            "_model_module": "@jupyter-widgets/base",
            "_model_module_version": "1.2.0",
            "_model_name": "LayoutModel",
            "_view_count": null,
            "_view_module": "@jupyter-widgets/base",
            "_view_module_version": "1.2.0",
            "_view_name": "LayoutView",
            "align_content": null,
            "align_items": null,
            "align_self": null,
            "border": null,
            "bottom": null,
            "display": null,
            "flex": null,
            "flex_flow": null,
            "grid_area": null,
            "grid_auto_columns": null,
            "grid_auto_flow": null,
            "grid_auto_rows": null,
            "grid_column": null,
            "grid_gap": null,
            "grid_row": null,
            "grid_template_areas": null,
            "grid_template_columns": null,
            "grid_template_rows": null,
            "height": null,
            "justify_content": null,
            "justify_items": null,
            "left": null,
            "margin": null,
            "max_height": null,
            "max_width": null,
            "min_height": null,
            "min_width": null,
            "object_fit": null,
            "object_position": null,
            "order": null,
            "overflow": null,
            "overflow_x": null,
            "overflow_y": null,
            "padding": null,
            "right": null,
            "top": null,
            "visibility": null,
            "width": null
          }
        },
        "c079222725954311b72fecaa2855048f": {
          "model_module": "@jupyter-widgets/controls",
          "model_module_version": "1.5.0",
          "model_name": "DescriptionStyleModel",
          "state": {
            "_model_module": "@jupyter-widgets/controls",
            "_model_module_version": "1.5.0",
            "_model_name": "DescriptionStyleModel",
            "_view_count": null,
            "_view_module": "@jupyter-widgets/base",
            "_view_module_version": "1.2.0",
            "_view_name": "StyleView",
            "description_width": ""
          }
        },
        "c15b3a35306c4c81b5742dc0358b07b5": {
          "model_module": "@jupyter-widgets/base",
          "model_module_version": "1.2.0",
          "model_name": "LayoutModel",
          "state": {
            "_model_module": "@jupyter-widgets/base",
            "_model_module_version": "1.2.0",
            "_model_name": "LayoutModel",
            "_view_count": null,
            "_view_module": "@jupyter-widgets/base",
            "_view_module_version": "1.2.0",
            "_view_name": "LayoutView",
            "align_content": null,
            "align_items": null,
            "align_self": null,
            "border": null,
            "bottom": null,
            "display": null,
            "flex": null,
            "flex_flow": null,
            "grid_area": null,
            "grid_auto_columns": null,
            "grid_auto_flow": null,
            "grid_auto_rows": null,
            "grid_column": null,
            "grid_gap": null,
            "grid_row": null,
            "grid_template_areas": null,
            "grid_template_columns": null,
            "grid_template_rows": null,
            "height": null,
            "justify_content": null,
            "justify_items": null,
            "left": null,
            "margin": null,
            "max_height": null,
            "max_width": null,
            "min_height": null,
            "min_width": null,
            "object_fit": null,
            "object_position": null,
            "order": null,
            "overflow": null,
            "overflow_x": null,
            "overflow_y": null,
            "padding": null,
            "right": null,
            "top": null,
            "visibility": null,
            "width": null
          }
        },
        "c719f116005e4fa68594b9ed53c01882": {
          "model_module": "@jupyter-widgets/controls",
          "model_module_version": "1.5.0",
          "model_name": "HTMLModel",
          "state": {
            "_dom_classes": [],
            "_model_module": "@jupyter-widgets/controls",
            "_model_module_version": "1.5.0",
            "_model_name": "HTMLModel",
            "_view_count": null,
            "_view_module": "@jupyter-widgets/controls",
            "_view_module_version": "1.5.0",
            "_view_name": "HTMLView",
            "description": "",
            "description_tooltip": null,
            "layout": "IPY_MODEL_1402fa3f58e947aca212b43557ecb256",
            "placeholder": "​",
            "style": "IPY_MODEL_a9140259bde34b8791e3786260fdede4",
            "value": " 23.5M/23.5M [00:00&lt;00:00, 58.6MB/s]"
          }
        },
        "ca0bb3666da040938262c51d6702c473": {
          "model_module": "@jupyter-widgets/controls",
          "model_module_version": "1.5.0",
          "model_name": "ProgressStyleModel",
          "state": {
            "_model_module": "@jupyter-widgets/controls",
            "_model_module_version": "1.5.0",
            "_model_name": "ProgressStyleModel",
            "_view_count": null,
            "_view_module": "@jupyter-widgets/base",
            "_view_module_version": "1.2.0",
            "_view_name": "StyleView",
            "bar_color": null,
            "description_width": ""
          }
        },
        "db0c0f283faa4bcead7b5350298ebfea": {
          "model_module": "@jupyter-widgets/controls",
          "model_module_version": "1.5.0",
          "model_name": "HTMLModel",
          "state": {
            "_dom_classes": [],
            "_model_module": "@jupyter-widgets/controls",
            "_model_module_version": "1.5.0",
            "_model_name": "HTMLModel",
            "_view_count": null,
            "_view_module": "@jupyter-widgets/controls",
            "_view_module_version": "1.5.0",
            "_view_name": "HTMLView",
            "description": "",
            "description_tooltip": null,
            "layout": "IPY_MODEL_bd9fe2c706ce47cbae2f3aff514cfed2",
            "placeholder": "​",
            "style": "IPY_MODEL_b51a3a7640af4f8cbe252ef61fb5e5f6",
            "value": " 299M/299M [00:04&lt;00:00, 90.5MB/s]"
          }
        },
        "df907d0167cd4b25b0afd25d7f70cd1b": {
          "model_module": "@jupyter-widgets/controls",
          "model_module_version": "1.5.0",
          "model_name": "DescriptionStyleModel",
          "state": {
            "_model_module": "@jupyter-widgets/controls",
            "_model_module_version": "1.5.0",
            "_model_name": "DescriptionStyleModel",
            "_view_count": null,
            "_view_module": "@jupyter-widgets/base",
            "_view_module_version": "1.2.0",
            "_view_name": "StyleView",
            "description_width": ""
          }
        },
        "dfe348a4f798409b9f4c8d7025759aa0": {
          "model_module": "@jupyter-widgets/base",
          "model_module_version": "1.2.0",
          "model_name": "LayoutModel",
          "state": {
            "_model_module": "@jupyter-widgets/base",
            "_model_module_version": "1.2.0",
            "_model_name": "LayoutModel",
            "_view_count": null,
            "_view_module": "@jupyter-widgets/base",
            "_view_module_version": "1.2.0",
            "_view_name": "LayoutView",
            "align_content": null,
            "align_items": null,
            "align_self": null,
            "border": null,
            "bottom": null,
            "display": null,
            "flex": null,
            "flex_flow": null,
            "grid_area": null,
            "grid_auto_columns": null,
            "grid_auto_flow": null,
            "grid_auto_rows": null,
            "grid_column": null,
            "grid_gap": null,
            "grid_row": null,
            "grid_template_areas": null,
            "grid_template_columns": null,
            "grid_template_rows": null,
            "height": null,
            "justify_content": null,
            "justify_items": null,
            "left": null,
            "margin": null,
            "max_height": null,
            "max_width": null,
            "min_height": null,
            "min_width": null,
            "object_fit": null,
            "object_position": null,
            "order": null,
            "overflow": null,
            "overflow_x": null,
            "overflow_y": null,
            "padding": null,
            "right": null,
            "top": null,
            "visibility": null,
            "width": null
          }
        },
        "e2ebf48ece8d4ccda0ab216fd98c46ca": {
          "model_module": "@jupyter-widgets/base",
          "model_module_version": "1.2.0",
          "model_name": "LayoutModel",
          "state": {
            "_model_module": "@jupyter-widgets/base",
            "_model_module_version": "1.2.0",
            "_model_name": "LayoutModel",
            "_view_count": null,
            "_view_module": "@jupyter-widgets/base",
            "_view_module_version": "1.2.0",
            "_view_name": "LayoutView",
            "align_content": null,
            "align_items": null,
            "align_self": null,
            "border": null,
            "bottom": null,
            "display": null,
            "flex": null,
            "flex_flow": null,
            "grid_area": null,
            "grid_auto_columns": null,
            "grid_auto_flow": null,
            "grid_auto_rows": null,
            "grid_column": null,
            "grid_gap": null,
            "grid_row": null,
            "grid_template_areas": null,
            "grid_template_columns": null,
            "grid_template_rows": null,
            "height": null,
            "justify_content": null,
            "justify_items": null,
            "left": null,
            "margin": null,
            "max_height": null,
            "max_width": null,
            "min_height": null,
            "min_width": null,
            "object_fit": null,
            "object_position": null,
            "order": null,
            "overflow": null,
            "overflow_x": null,
            "overflow_y": null,
            "padding": null,
            "right": null,
            "top": null,
            "visibility": null,
            "width": null
          }
        },
        "e870de7f34b24ee8b55c5a8ad1c055ed": {
          "model_module": "@jupyter-widgets/base",
          "model_module_version": "1.2.0",
          "model_name": "LayoutModel",
          "state": {
            "_model_module": "@jupyter-widgets/base",
            "_model_module_version": "1.2.0",
            "_model_name": "LayoutModel",
            "_view_count": null,
            "_view_module": "@jupyter-widgets/base",
            "_view_module_version": "1.2.0",
            "_view_name": "LayoutView",
            "align_content": null,
            "align_items": null,
            "align_self": null,
            "border": null,
            "bottom": null,
            "display": null,
            "flex": null,
            "flex_flow": null,
            "grid_area": null,
            "grid_auto_columns": null,
            "grid_auto_flow": null,
            "grid_auto_rows": null,
            "grid_column": null,
            "grid_gap": null,
            "grid_row": null,
            "grid_template_areas": null,
            "grid_template_columns": null,
            "grid_template_rows": null,
            "height": null,
            "justify_content": null,
            "justify_items": null,
            "left": null,
            "margin": null,
            "max_height": null,
            "max_width": null,
            "min_height": null,
            "min_width": null,
            "object_fit": null,
            "object_position": null,
            "order": null,
            "overflow": null,
            "overflow_x": null,
            "overflow_y": null,
            "padding": null,
            "right": null,
            "top": null,
            "visibility": null,
            "width": null
          }
        },
        "ea74fbfa0f014625919e978e2d7e5eee": {
          "model_module": "@jupyter-widgets/controls",
          "model_module_version": "1.5.0",
          "model_name": "HBoxModel",
          "state": {
            "_dom_classes": [],
            "_model_module": "@jupyter-widgets/controls",
            "_model_module_version": "1.5.0",
            "_model_name": "HBoxModel",
            "_view_count": null,
            "_view_module": "@jupyter-widgets/controls",
            "_view_module_version": "1.5.0",
            "_view_name": "HBoxView",
            "box_style": "",
            "children": [
              "IPY_MODEL_79d7b6bd78414e638a6636f79f83279e",
              "IPY_MODEL_80c02b4423e14de0a8b8d4e6a81b2657",
              "IPY_MODEL_db0c0f283faa4bcead7b5350298ebfea"
            ],
            "layout": "IPY_MODEL_8939db8e5fbe40b2b665da2d875f8a08"
          }
        },
        "ed5ce2c8ef1b418e99c788f6c9bdc709": {
          "model_module": "@jupyter-widgets/controls",
          "model_module_version": "1.5.0",
          "model_name": "HBoxModel",
          "state": {
            "_dom_classes": [],
            "_model_module": "@jupyter-widgets/controls",
            "_model_module_version": "1.5.0",
            "_model_name": "HBoxModel",
            "_view_count": null,
            "_view_module": "@jupyter-widgets/controls",
            "_view_module_version": "1.5.0",
            "_view_name": "HBoxView",
            "box_style": "",
            "children": [
              "IPY_MODEL_9b503817e18946079055e2b7c19d35e9",
              "IPY_MODEL_2ef03e2bf27f4362892d83be5778563f",
              "IPY_MODEL_a78f087a74774ca4bca7cb961e7a25d0"
            ],
            "layout": "IPY_MODEL_526bd821aa4d434b8f11032d13831027"
          }
        },
        "ef4b4350cd47479ab7bb984990b56f18": {
          "model_module": "@jupyter-widgets/base",
          "model_module_version": "1.2.0",
          "model_name": "LayoutModel",
          "state": {
            "_model_module": "@jupyter-widgets/base",
            "_model_module_version": "1.2.0",
            "_model_name": "LayoutModel",
            "_view_count": null,
            "_view_module": "@jupyter-widgets/base",
            "_view_module_version": "1.2.0",
            "_view_name": "LayoutView",
            "align_content": null,
            "align_items": null,
            "align_self": null,
            "border": null,
            "bottom": null,
            "display": null,
            "flex": null,
            "flex_flow": null,
            "grid_area": null,
            "grid_auto_columns": null,
            "grid_auto_flow": null,
            "grid_auto_rows": null,
            "grid_column": null,
            "grid_gap": null,
            "grid_row": null,
            "grid_template_areas": null,
            "grid_template_columns": null,
            "grid_template_rows": null,
            "height": null,
            "justify_content": null,
            "justify_items": null,
            "left": null,
            "margin": null,
            "max_height": null,
            "max_width": null,
            "min_height": null,
            "min_width": null,
            "object_fit": null,
            "object_position": null,
            "order": null,
            "overflow": null,
            "overflow_x": null,
            "overflow_y": null,
            "padding": null,
            "right": null,
            "top": null,
            "visibility": null,
            "width": null
          }
        },
        "f01ac3b97f194eb8947c136e6c8c4806": {
          "model_module": "@jupyter-widgets/base",
          "model_module_version": "1.2.0",
          "model_name": "LayoutModel",
          "state": {
            "_model_module": "@jupyter-widgets/base",
            "_model_module_version": "1.2.0",
            "_model_name": "LayoutModel",
            "_view_count": null,
            "_view_module": "@jupyter-widgets/base",
            "_view_module_version": "1.2.0",
            "_view_name": "LayoutView",
            "align_content": null,
            "align_items": null,
            "align_self": null,
            "border": null,
            "bottom": null,
            "display": null,
            "flex": null,
            "flex_flow": null,
            "grid_area": null,
            "grid_auto_columns": null,
            "grid_auto_flow": null,
            "grid_auto_rows": null,
            "grid_column": null,
            "grid_gap": null,
            "grid_row": null,
            "grid_template_areas": null,
            "grid_template_columns": null,
            "grid_template_rows": null,
            "height": null,
            "justify_content": null,
            "justify_items": null,
            "left": null,
            "margin": null,
            "max_height": null,
            "max_width": null,
            "min_height": null,
            "min_width": null,
            "object_fit": null,
            "object_position": null,
            "order": null,
            "overflow": null,
            "overflow_x": null,
            "overflow_y": null,
            "padding": null,
            "right": null,
            "top": null,
            "visibility": null,
            "width": null
          }
        },
        "fc510f151dd94c37b140b36ed63715f7": {
          "model_module": "@jupyter-widgets/controls",
          "model_module_version": "1.5.0",
          "model_name": "HBoxModel",
          "state": {
            "_dom_classes": [],
            "_model_module": "@jupyter-widgets/controls",
            "_model_module_version": "1.5.0",
            "_model_name": "HBoxModel",
            "_view_count": null,
            "_view_module": "@jupyter-widgets/controls",
            "_view_module_version": "1.5.0",
            "_view_name": "HBoxView",
            "box_style": "",
            "children": [
              "IPY_MODEL_202b17098b344110a88b9e318ebebc01",
              "IPY_MODEL_38d9385ee772435c8a517f4a704fb25a",
              "IPY_MODEL_750ae7633cfc4fd69ffffd5c6b3cdce7"
            ],
            "layout": "IPY_MODEL_ef4b4350cd47479ab7bb984990b56f18"
          }
        }
      }
    }
  },
  "nbformat": 4,
  "nbformat_minor": 0
}